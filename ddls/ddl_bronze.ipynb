{
 "cells": [
  {
   "cell_type": "code",
   "execution_count": 0,
   "metadata": {
    "application/vnd.databricks.v1+cell": {
     "cellMetadata": {
      "byteLimit": 2048000,
      "rowLimit": 10000
     },
     "inputWidgets": {},
     "nuid": "f4e4cd96-41a2-49ca-b92c-4a11890a619b",
     "showTitle": false,
     "tableResultSettingsMap": {},
     "title": ""
    }
   },
   "outputs": [
    {
     "output_type": "execute_result",
     "data": {
      "text/plain": [
       "DataFrame[]"
      ]
     },
     "execution_count": 2,
     "metadata": {},
     "output_type": "execute_result"
    }
   ],
   "source": [
    "spark.sql(\"DROP TABLE IF EXISTS dwh.bronze.crm_cust_info\")\n",
    "spark.sql(\"\"\"\n",
    "CREATE TABLE IF NOT EXISTS dwh.bronze.crm_cust_info (\n",
    "    cst_id INT,\n",
    "    cst_key VARCHAR(50),\n",
    "    cst_firstname VARCHAR(50),\n",
    "    cst_lastname VARCHAR(50),\n",
    "    cst_marital_status VARCHAR(50),\n",
    "    cst_gndr VARCHAR(50),\n",
    "    cst_create_date DATE\n",
    ")\n",
    "\"\"\")\n",
    "\n",
    "spark.sql(\"DROP TABLE IF EXISTS dwh.bronze.crm_prd_info\")\n",
    "spark.sql(\"\"\"\n",
    "CREATE TABLE IF NOT EXISTS dwh.bronze.crm_prd_info (\n",
    "    prd_id INT,\n",
    "    prd_key VARCHAR(50),\n",
    "    prd_nm VARCHAR(50),\n",
    "    prd_cost INT,\n",
    "    prd_line VARCHAR(50),\n",
    "    prd_start_dt DATE,\n",
    "    prd_end_dt DATE\n",
    ")\n",
    "\"\"\")\n",
    "\n",
    "spark.sql(\"DROP TABLE IF EXISTS dwh.bronze.crm_sales_details\")\n",
    "spark.sql(\"\"\"\n",
    "CREATE TABLE IF NOT EXISTS dwh.bronze.crm_sales_details (\n",
    "    sls_ord_num VARCHAR(50),\n",
    "    sls_prd_key VARCHAR(50),\n",
    "    sls_cust_id INT,\n",
    "    sls_order_dt INT,\n",
    "    sls_ship_dt INT,\n",
    "    sls_due_dt INT,\n",
    "    sls_sales INT,\n",
    "    sls_quantity INT,\n",
    "    sls_price INT\n",
    ")\n",
    "\"\"\")\n",
    "\n",
    "spark.sql(\"DROP TABLE IF EXISTS dwh.bronze.erp_loc_a101\")\n",
    "spark.sql(\"\"\"\n",
    "CREATE TABLE IF NOT EXISTS dwh.bronze.erp_loc_a101 (\n",
    "    cid VARCHAR(50),\n",
    "    cntry VARCHAR(50)\n",
    ")\n",
    "\"\"\")\n",
    "\n",
    "spark.sql(\"DROP TABLE IF EXISTS dwh.bronze.erp_cust_az12\")\n",
    "spark.sql(\"\"\"\n",
    "CREATE TABLE IF NOT EXISTS dwh.bronze.erp_cust_az12 (\n",
    "    cid VARCHAR(50),\n",
    "    bdate DATE,\n",
    "    gen VARCHAR(50)\n",
    ")\n",
    "\"\"\")\n",
    "\n",
    "spark.sql(\"DROP TABLE IF EXISTS dwh.bronze.erp_px_cat_g1v2\")\n",
    "spark.sql(\"\"\"\n",
    "CREATE TABLE IF NOT EXISTS dwh.bronze.erp_px_cat_g1v2 (\n",
    "    id VARCHAR(50),\n",
    "    cat VARCHAR(50),\n",
    "    subcat VARCHAR(50),\n",
    "    maintenance VARCHAR(50)\n",
    ")\n",
    "\"\"\")"
   ]
  }
 ],
 "metadata": {
  "application/vnd.databricks.v1+notebook": {
   "computePreferences": null,
   "dashboards": [],
   "environmentMetadata": {
    "base_environment": "",
    "environment_version": "2"
   },
   "inputWidgetPreferences": null,
   "language": "python",
   "notebookMetadata": {
    "pythonIndentUnit": 4
   },
   "notebookName": "ddl_bronze",
   "widgets": {}
  },
  "language_info": {
   "name": "python"
  }
 },
 "nbformat": 4,
 "nbformat_minor": 0
}