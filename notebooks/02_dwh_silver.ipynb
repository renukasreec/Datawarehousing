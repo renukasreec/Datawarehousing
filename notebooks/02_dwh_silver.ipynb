{
 "cells": [
  {
   "cell_type": "code",
   "execution_count": 0,
   "metadata": {
    "application/vnd.databricks.v1+cell": {
     "cellMetadata": {
      "byteLimit": 2048000,
      "rowLimit": 10000
     },
     "inputWidgets": {},
     "nuid": "fa5b51b3-b568-4c7b-9029-0a50b58d5bfc",
     "showTitle": false,
     "tableResultSettingsMap": {},
     "title": ""
    }
   },
   "outputs": [],
   "source": [
    "import logging\n",
    "from pyspark.sql.functions import *\n",
    "from pyspark.sql.window import Window"
   ]
  },
  {
   "cell_type": "code",
   "execution_count": 0,
   "metadata": {
    "application/vnd.databricks.v1+cell": {
     "cellMetadata": {
      "byteLimit": 2048000,
      "rowLimit": 10000
     },
     "inputWidgets": {},
     "nuid": "4e1c5ea9-6461-4223-b854-b4f68a41fa3c",
     "showTitle": false,
     "tableResultSettingsMap": {},
     "title": ""
    }
   },
   "outputs": [],
   "source": [
    "def get_logger(name):\n",
    "    logger = logging.getLogger(name)\n",
    "    logger.setLevel(logging.INFO)\n",
    "    if not logger.handlers:\n",
    "        handler = logging.StreamHandler()\n",
    "        formatter = logging.Formatter('%(asctime)s %(levelname)s %(message)s')\n",
    "        handler.setFormatter(formatter)\n",
    "        logger.addHandler(handler)\n",
    "    return logger"
   ]
  },
  {
   "cell_type": "code",
   "execution_count": 0,
   "metadata": {
    "application/vnd.databricks.v1+cell": {
     "cellMetadata": {
      "byteLimit": 2048000,
      "rowLimit": 10000
     },
     "inputWidgets": {},
     "nuid": "e8187e4c-d447-4912-9f9d-a4daf4a349cc",
     "showTitle": false,
     "tableResultSettingsMap": {
      "0": {
       "dataGridStateBlob": null,
       "filterBlob": "{\"version\":1,\"filterGroups\":[],\"syncTimestamp\":1753795878222}",
       "queryPlanFiltersBlob": "[]",
       "tableResultIndex": 0
      }
     },
     "title": ""
    }
   },
   "outputs": [],
   "source": [
    "\n",
    "\n",
    "def process_and_save_crm_cust_info():\n",
    "\n",
    "    logger = get_logger(\"crm_cust_info_logger\")\n",
    "    try:\n",
    "        logger.info(\"Reading source table dwh.bronze.crm_cust_info\")\n",
    "        df_crm_cust_info = spark.read.table('dwh.bronze.crm_cust_info')\n",
    "\n",
    "        logger.info(\"Transforming data\")\n",
    "        df_crm_cust_info = df_crm_cust_info.withColumn(\n",
    "            'dup_rank', \n",
    "            row_number().over(Window.partitionBy('cst_id').orderBy(col('cst_create_date').desc()))\n",
    "        ).withColumn(\n",
    "            'cst_firstname', \n",
    "            trim(col('cst_firstname'))\n",
    "        ).withColumn(\n",
    "            'cst_lastname', \n",
    "            trim(col('cst_lastname'))\n",
    "        ).withColumn(\n",
    "            'cst_gndr', \n",
    "            when(upper(trim(col('cst_gndr'))) == 'F', 'Female')\n",
    "            .when(upper(trim(col('cst_gndr'))) == 'M', 'Male')\n",
    "            .otherwise('n/a')\n",
    "        ).withColumn(\n",
    "            'cst_marital_status', \n",
    "            when(upper(trim(col('cst_marital_status'))) == 'S', 'Single')\n",
    "            .when(upper(trim(col('cst_marital_status'))) == 'M', 'Married')\n",
    "            .otherwise('n/a')\n",
    "        ).filter(\n",
    "            (col('dup_rank') == 1) & (col('cst_id').isNotNull())\n",
    "        ).drop('dup_rank')\n",
    "\n",
    "        logger.info(\"Writing to target table dwh.silver.crm_cust_info\")\n",
    "        df_crm_cust_info.write.mode('overwrite').saveAsTable('dwh.silver.crm_cust_info')\n",
    "        logger.info(\"Process completed successfully\")\n",
    "    except Exception as e:\n",
    "        logger.error(f\"Error processing CRM customer info: {e}\")\n",
    "        raise\n"
   ]
  },
  {
   "cell_type": "code",
   "execution_count": 0,
   "metadata": {
    "application/vnd.databricks.v1+cell": {
     "cellMetadata": {
      "byteLimit": 2048000,
      "rowLimit": 10000
     },
     "inputWidgets": {},
     "nuid": "08ee7af9-d99f-45af-ac8f-f362bbb1ff46",
     "showTitle": false,
     "tableResultSettingsMap": {},
     "title": ""
    }
   },
   "outputs": [],
   "source": [
    "def process_and_save_crm_prd_info():\n",
    "    logger = get_logger(\"crm_prd_info_logger\")\n",
    "\n",
    "    try:\n",
    "        logger.info(\"Reading source table dwh.bronze.crm_prd_info\")\n",
    "        df_crm_prd_info = spark.read.table('dwh.bronze.crm_prd_info')\n",
    "        logger.info(\"Transforming data\")\n",
    "        df_crm_prd_info = df_crm_prd_info.withColumn(\n",
    "            'cat_id', regexp_replace(substring(col('prd_key'), 1, 5), '-', '_')\n",
    "        ).withColumn(\n",
    "            'prd_key', substring(col('prd_key'), 7, length(col('prd_key')))\n",
    "        ).withColumn(\n",
    "            'prd_cost', coalesce(col('prd_cost'), lit(0))\n",
    "        ).withColumn(\n",
    "            'prd_line', when(upper(trim(col('prd_line'))) == 'M', 'Mountain')\n",
    "            .when(upper(trim(col('prd_line'))) == 'R', 'Road')\n",
    "            .when(upper(trim(col('prd_line'))) == 'T', 'Touring')\n",
    "            .when(upper(trim(col('prd_line'))) == 'S', 'Other Sales')\n",
    "            .otherwise('n/a')\n",
    "        ).withColumn(\n",
    "            'prd_nm', trim(col('prd_nm'))\n",
    "        ).withColumn(\n",
    "            'prd_end_dt', lead(col('prd_start_dt'), 1).over(Window.partitionBy('prd_key').orderBy(col('prd_start_dt'))) - 1\n",
    "        )\n",
    "        logger.info(\"Writing to target table dwh.silver.crm_prd_info\")\n",
    "        df_crm_prd_info.write.mode('overwrite').saveAsTable('dwh.silver.crm_prd_info')\n",
    "        logger.info(\"Process completed successfully\")\n",
    "    except Exception as e:\n",
    "        logger.error(f\"Error processing CRM product info: {e}\")\n",
    "        raise"
   ]
  },
  {
   "cell_type": "code",
   "execution_count": 0,
   "metadata": {
    "application/vnd.databricks.v1+cell": {
     "cellMetadata": {
      "byteLimit": 2048000,
      "rowLimit": 10000
     },
     "inputWidgets": {},
     "nuid": "75b8e3d3-2d6a-4596-92d1-5fe3a0d6cd29",
     "showTitle": false,
     "tableResultSettingsMap": {
      "0": {
       "dataGridStateBlob": null,
       "filterBlob": "{\"version\":1,\"filterGroups\":[{\"enabled\":true,\"filterGroupId\":\"fg_b36cc00a\",\"op\":\"OR\",\"filters\":[{\"filterId\":\"f_f3eacf1c\",\"enabled\":true,\"columnId\":\"sls_order_dt\",\"dataType\":\"integer\",\"filterType\":\"eq\",\"filterValue\":\"0\",\"filterConfig\":{}}],\"local\":false,\"updatedAt\":1753801997544}],\"syncTimestamp\":1753802007911}",
       "queryPlanFiltersBlob": "[{\"kind\":\"call\",\"function\":\"or\",\"args\":[{\"kind\":\"call\",\"function\":\"in\",\"args\":[{\"kind\":\"identifier\",\"identifier\":\"sls_order_dt\"},{\"kind\":\"literal\",\"value\":\"0\",\"type\":\"integer\"}]}]}]",
       "tableResultIndex": 0
      }
     },
     "title": ""
    }
   },
   "outputs": [],
   "source": [
    "\n",
    "def process_and_save_crm_sales_details():\n",
    "    logger = get_logger(\"crm_sales_details_logger\")\n",
    "    try:\n",
    "        logger.info(\"Reading source table dwh.bronze.crm_sales_details\")\n",
    "        df_crm_sales_details = spark.read.table('dwh.bronze.crm_sales_details')\n",
    "\n",
    "        logger.info(\"Transforming data\")\n",
    "        df_crm_sales_details = df_crm_sales_details.withColumn(\n",
    "            'sls_order_dt', \n",
    "            when((col('sls_order_dt') == 0) | (length(col('sls_order_dt')) != 8), None)\n",
    "            .otherwise(to_date(col('sls_order_dt').cast('string'), 'yyyyMMdd'))\n",
    "        ).withColumn(\n",
    "            'sls_ship_dt', \n",
    "            when((col('sls_ship_dt') == 0) | (length(col('sls_ship_dt')) != 8), None)\n",
    "            .otherwise(to_date(col('sls_ship_dt').cast('string'), 'yyyyMMdd'))\n",
    "        ).withColumn(\n",
    "            'sls_due_dt', \n",
    "            when((col('sls_due_dt') == 0) | (length(col('sls_due_dt')) != 8), None)\n",
    "            .otherwise(to_date(col('sls_due_dt').cast('string'), 'yyyyMMdd'))\n",
    "        ).withColumn(\n",
    "            'sls_sales', \n",
    "            when(\n",
    "                (col('sls_sales').isNull()) | (col('sls_sales') <= 0) | (col('sls_sales') != col('sls_quantity') * abs(col('sls_price'))), \n",
    "                col('sls_quantity') * abs(col('sls_price'))\n",
    "            ).otherwise(col('sls_sales'))\n",
    "        ).withColumn(\n",
    "            'sls_price',\n",
    "            when((col('sls_price').isNull()) | (col('sls_price') <= 0), \n",
    "                (col('sls_sales')/when(col('sls_quantity') == 0, None).otherwise(col('sls_quantity'))).cast('int'))\n",
    "            .otherwise(col('sls_price').cast('int'))\n",
    "        )\n",
    "\n",
    "        logger.info(\"Writing to target table dwh.silver.crm_sales_details\")\n",
    "        df_crm_sales_details.write.mode('overwrite').saveAsTable('dwh.silver.crm_sales_details')\n",
    "        logger.info(\"Process completed successfully\")\n",
    "    except Exception as e:\n",
    "        logger.error(f\"Error processing CRM sales details: {e}\")\n",
    "        raise"
   ]
  },
  {
   "cell_type": "code",
   "execution_count": 0,
   "metadata": {
    "application/vnd.databricks.v1+cell": {
     "cellMetadata": {
      "byteLimit": 2048000,
      "rowLimit": 10000
     },
     "inputWidgets": {},
     "nuid": "2be97de7-8842-4177-bea1-b4c2d8ad29d7",
     "showTitle": false,
     "tableResultSettingsMap": {},
     "title": ""
    }
   },
   "outputs": [],
   "source": [
    "def process_and_save_erp_cust_az12():\n",
    "    logger = get_logger(\"erp_cust_az12_logger\")\n",
    "\n",
    "    try:\n",
    "        logger.info(\"Reading source table dwh.bronze.erp_cust_az12\")\n",
    "        df_erp_cust_az12 = spark.read.table('dwh.bronze.erp_cust_az12')\n",
    "        logger.info(\"Transforming data\")\n",
    "        df_erp_cust_az12 = df_erp_cust_az12.withColumn(\n",
    "            'cid', \n",
    "            when(col('cid').like('NAS%'), substring(col('cid'), 4, length(col('cid'))))\n",
    "            .otherwise(col('cid'))\n",
    "        ).withColumn(\n",
    "            'bdate', \n",
    "            when(col('bdate') > current_date(), None)\n",
    "            .otherwise(col('bdate'))\n",
    "        ).withColumn(\n",
    "            'gen', \n",
    "            when(upper(trim(col('gen'))) == 'F', 'Female')\n",
    "            .when(upper(trim(col('gen'))) == 'FEMALE', 'Female')\n",
    "            .when(upper(trim(col('gen'))) == 'M', 'Male')\n",
    "            .when(upper(trim(col('gen'))) == 'MALE', 'Male')\n",
    "            .otherwise('n/a')\n",
    "        )\n",
    "        logger.info(\"Writing to target table dwh.silver.erp_cust_az12\")\n",
    "        df_erp_cust_az12.write.mode('overwrite').saveAsTable('dwh.silver.erp_cust_az12')\n",
    "        logger.info(\"Process completed successfully\")\n",
    "    except Exception as e:\n",
    "        logger.error(f\"Error processing ERP customer az12: {e}\")\n",
    "        raise"
   ]
  },
  {
   "cell_type": "code",
   "execution_count": 0,
   "metadata": {
    "application/vnd.databricks.v1+cell": {
     "cellMetadata": {
      "byteLimit": 2048000,
      "rowLimit": 10000
     },
     "inputWidgets": {},
     "nuid": "d7949686-f8af-4c51-9b80-2e4251caab96",
     "showTitle": false,
     "tableResultSettingsMap": {},
     "title": ""
    }
   },
   "outputs": [],
   "source": [
    "def process_and_save_erp_loc_a101():\n",
    "    logger = get_logger(\"erp_loc_a101_logger\")\n",
    "\n",
    "    try:\n",
    "        logger.info(\"Reading source table dwh.bronze.erp_loc_a101\")\n",
    "        df_erp_loc_a101 = spark.read.table('dwh.bronze.erp_loc_a101')\n",
    "        logger.info(\"Transforming data\")\n",
    "        df_erp_loc_a101 = df_erp_loc_a101.withColumn(\n",
    "            'cid', \n",
    "            regexp_replace(col('cid'), '-', '') \n",
    "        ).withColumn(\n",
    "            'cntry', \n",
    "            when(trim(col('cntry')) == 'DE', 'Germany')\n",
    "            .when(trim(col('cntry')).isin(['US', 'USA']), 'United States')\n",
    "            .when((trim(col('cntry')) == '') | col('cntry').isNull(), 'n/a')\n",
    "            .otherwise(trim(col('cntry')))\n",
    "        )\n",
    "        logger.info(\"Writing to target table dwh.silver.erp_loc_a101\")\n",
    "        df_erp_loc_a101.write.mode('overwrite').saveAsTable('dwh.silver.erp_loc_a101')\n",
    "        logger.info(\"Process completed successfully\")\n",
    "    except Exception as e:\n",
    "        logger.error(f\"Error processing ERP location a101: {e}\")\n",
    "        raise"
   ]
  },
  {
   "cell_type": "code",
   "execution_count": 0,
   "metadata": {
    "application/vnd.databricks.v1+cell": {
     "cellMetadata": {
      "byteLimit": 2048000,
      "rowLimit": 10000
     },
     "inputWidgets": {},
     "nuid": "0061303b-a5e7-4ef2-8158-c032c1ededa2",
     "showTitle": false,
     "tableResultSettingsMap": {},
     "title": ""
    }
   },
   "outputs": [],
   "source": [
    "def process_and_save_erp_px_cat_g1v2():\n",
    "    logger = get_logger(\"erp_px_cat_g1v2_logger\")\n",
    "\n",
    "    try:\n",
    "        logger.info(\"Reading source table dwh.bronze.erp_px_cat_g1v2\")\n",
    "        df_erp_px_cat_g1v2 = spark.read.table('dwh.bronze.erp_px_cat_g1v2')\n",
    "        logger.info(\"Writing to target table dwh.silver.erp_px_cat_g1v2\")\n",
    "        df_erp_px_cat_g1v2.write.mode('overwrite').saveAsTable('dwh.silver.erp_px_cat_g1v2')\n",
    "        logger.info(\"Process completed successfully\")\n",
    "    except Exception as e:\n",
    "        logger.error(f\"Error processing ERP px cat g1v2: {e}\")\n",
    "        raise"
   ]
  },
  {
   "cell_type": "code",
   "execution_count": 0,
   "metadata": {
    "application/vnd.databricks.v1+cell": {
     "cellMetadata": {
      "byteLimit": 2048000,
      "rowLimit": 10000
     },
     "inputWidgets": {},
     "nuid": "5ad1922b-2282-46a6-8623-59fc44d9d62f",
     "showTitle": false,
     "tableResultSettingsMap": {},
     "title": ""
    }
   },
   "outputs": [
    {
     "output_type": "stream",
     "name": "stderr",
     "output_type": "stream",
     "text": [
      "2025-07-29 16:24:55,457 INFO Reading source table dwh.bronze.crm_cust_info\n2025-07-29 16:24:56,118 INFO Transforming data\n2025-07-29 16:24:56,231 INFO Writing to target table dwh.silver.crm_cust_info\n2025-07-29 16:24:58,313 INFO Process completed successfully\n"
     ]
    }
   ],
   "source": [
    "\n",
    "process_and_save_crm_cust_info()"
   ]
  },
  {
   "cell_type": "code",
   "execution_count": 0,
   "metadata": {
    "application/vnd.databricks.v1+cell": {
     "cellMetadata": {
      "byteLimit": 2048000,
      "rowLimit": 10000
     },
     "inputWidgets": {},
     "nuid": "e82d761e-0e80-41e0-b676-e5f9f6ae1118",
     "showTitle": false,
     "tableResultSettingsMap": {},
     "title": ""
    }
   },
   "outputs": [
    {
     "output_type": "stream",
     "name": "stderr",
     "output_type": "stream",
     "text": [
      "2025-07-29 16:24:58,453 INFO Reading source table dwh.bronze.crm_prd_info\n2025-07-29 16:24:58,567 INFO Transforming data\n2025-07-29 16:24:58,663 INFO Writing to target table dwh.silver.crm_prd_info\n2025-07-29 16:25:00,316 INFO Process completed successfully\n"
     ]
    }
   ],
   "source": [
    "process_and_save_crm_prd_info()"
   ]
  },
  {
   "cell_type": "code",
   "execution_count": 0,
   "metadata": {
    "application/vnd.databricks.v1+cell": {
     "cellMetadata": {
      "byteLimit": 2048000,
      "rowLimit": 10000
     },
     "inputWidgets": {},
     "nuid": "06f30826-694f-40d2-a23b-c4207a51cc98",
     "showTitle": false,
     "tableResultSettingsMap": {},
     "title": ""
    }
   },
   "outputs": [
    {
     "output_type": "stream",
     "name": "stderr",
     "output_type": "stream",
     "text": [
      "2025-07-29 16:25:00,458 INFO Reading source table dwh.bronze.crm_sales_details\n2025-07-29 16:25:00,539 INFO Transforming data\n2025-07-29 16:25:00,678 INFO Writing to target table dwh.silver.crm_sales_details\n2025-07-29 16:25:02,561 INFO Process completed successfully\n"
     ]
    }
   ],
   "source": [
    "process_and_save_crm_sales_details()"
   ]
  },
  {
   "cell_type": "code",
   "execution_count": 0,
   "metadata": {
    "application/vnd.databricks.v1+cell": {
     "cellMetadata": {
      "byteLimit": 2048000,
      "rowLimit": 10000
     },
     "inputWidgets": {},
     "nuid": "d60390e2-a4e5-4198-843e-190c0c050e32",
     "showTitle": false,
     "tableResultSettingsMap": {},
     "title": ""
    }
   },
   "outputs": [
    {
     "output_type": "stream",
     "name": "stderr",
     "output_type": "stream",
     "text": [
      "2025-07-29 16:25:02,755 INFO Reading source table dwh.bronze.erp_cust_az12\n2025-07-29 16:25:02,863 INFO Transforming data\n2025-07-29 16:25:02,920 INFO Writing to target table dwh.silver.erp_cust_az12\n2025-07-29 16:25:04,365 INFO Process completed successfully\n"
     ]
    }
   ],
   "source": [
    "process_and_save_erp_cust_az12()"
   ]
  },
  {
   "cell_type": "code",
   "execution_count": 0,
   "metadata": {
    "application/vnd.databricks.v1+cell": {
     "cellMetadata": {
      "byteLimit": 2048000,
      "rowLimit": 10000
     },
     "inputWidgets": {},
     "nuid": "ad62ebcd-abae-4c66-840d-ca4ca0cb799d",
     "showTitle": false,
     "tableResultSettingsMap": {},
     "title": ""
    }
   },
   "outputs": [
    {
     "output_type": "stream",
     "name": "stderr",
     "output_type": "stream",
     "text": [
      "2025-07-29 16:25:04,557 INFO Reading source table dwh.bronze.erp_loc_a101\n2025-07-29 16:25:04,655 INFO Transforming data\n2025-07-29 16:25:04,700 INFO Writing to target table dwh.silver.erp_loc_a101\n2025-07-29 16:25:05,874 INFO Process completed successfully\n"
     ]
    }
   ],
   "source": [
    "process_and_save_erp_loc_a101()"
   ]
  },
  {
   "cell_type": "code",
   "execution_count": 0,
   "metadata": {
    "application/vnd.databricks.v1+cell": {
     "cellMetadata": {
      "byteLimit": 2048000,
      "rowLimit": 10000
     },
     "inputWidgets": {},
     "nuid": "19c992d1-334a-47ca-a2ad-5b2a63abb743",
     "showTitle": false,
     "tableResultSettingsMap": {},
     "title": ""
    }
   },
   "outputs": [
    {
     "output_type": "stream",
     "name": "stderr",
     "output_type": "stream",
     "text": [
      "2025-07-29 16:25:06,066 INFO Reading source table dwh.bronze.erp_px_cat_g1v2\n2025-07-29 16:25:06,210 INFO Writing to target table dwh.silver.erp_px_cat_g1v2\n2025-07-29 16:25:07,452 INFO Process completed successfully\n"
     ]
    }
   ],
   "source": [
    "process_and_save_erp_px_cat_g1v2()"
   ]
  }
 ],
 "metadata": {
  "application/vnd.databricks.v1+notebook": {
   "computePreferences": null,
   "dashboards": [],
   "environmentMetadata": {
    "base_environment": "",
    "environment_version": "2"
   },
   "inputWidgetPreferences": null,
   "language": "python",
   "notebookMetadata": {
    "mostRecentlyExecutedCommandWithImplicitDF": {
     "commandId": 7508849207011332,
     "dataframes": [
      "_sqldf"
     ]
    },
    "pythonIndentUnit": 4
   },
   "notebookName": "02_dwh_silver",
   "widgets": {}
  },
  "language_info": {
   "name": "python"
  }
 },
 "nbformat": 4,
 "nbformat_minor": 0
}