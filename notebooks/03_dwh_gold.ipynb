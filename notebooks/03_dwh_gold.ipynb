{
 "cells": [
  {
   "cell_type": "code",
   "execution_count": 0,
   "metadata": {
    "application/vnd.databricks.v1+cell": {
     "cellMetadata": {
      "byteLimit": 2048000,
      "rowLimit": 10000
     },
     "inputWidgets": {},
     "nuid": "9229e77d-f5ca-405b-bbec-dd92c4f211f8",
     "showTitle": false,
     "tableResultSettingsMap": {},
     "title": ""
    }
   },
   "outputs": [],
   "source": [
    "import logging"
   ]
  },
  {
   "cell_type": "code",
   "execution_count": 0,
   "metadata": {
    "application/vnd.databricks.v1+cell": {
     "cellMetadata": {
      "byteLimit": 2048000,
      "rowLimit": 10000
     },
     "inputWidgets": {},
     "nuid": "da8f4024-bf40-4c96-b2f6-94171fdae71e",
     "showTitle": false,
     "tableResultSettingsMap": {},
     "title": ""
    }
   },
   "outputs": [],
   "source": [
    "\n",
    "def setup_logger():\n",
    "    logger = logging.getLogger(\"dim_customers_logger\")\n",
    "    logger.setLevel(logging.INFO)\n",
    "    if not logger.handlers:\n",
    "        handler = logging.StreamHandler()\n",
    "        formatter = logging.Formatter('%(asctime)s %(levelname)s %(message)s')\n",
    "        handler.setFormatter(formatter)\n",
    "        logger.addHandler(handler)\n",
    "    return logger"
   ]
  },
  {
   "cell_type": "code",
   "execution_count": 0,
   "metadata": {
    "application/vnd.databricks.v1+cell": {
     "cellMetadata": {
      "byteLimit": 2048000,
      "rowLimit": 10000
     },
     "inputWidgets": {},
     "nuid": "da332a08-bdcb-480a-904b-e3a842c575de",
     "showTitle": false,
     "tableResultSettingsMap": {},
     "title": ""
    }
   },
   "outputs": [],
   "source": [
    "\n",
    "\n",
    "def create_dim_customers_view():\n",
    "    logger = setup_logger()\n",
    "    logger.info(\"Starting creation of gold.dim_customers view.\")\n",
    "    spark.sql('''\n",
    "    CREATE OR REPLACE VIEW dwh.gold.dim_customers AS\n",
    "    SELECT\n",
    "        ROW_NUMBER() OVER (ORDER BY ci.cst_id) AS customer_key,  -- Surrogate key\n",
    "        ci.cst_id AS customer_id,\n",
    "        ci.cst_key AS customer_number,\n",
    "        ci.cst_firstname AS first_name,\n",
    "        ci.cst_lastname AS last_name,\n",
    "        la.cntry AS country,\n",
    "        ci.cst_marital_status AS marital_status,\n",
    "        CASE \n",
    "            WHEN ci.cst_gndr != 'n/a' THEN ci.cst_gndr  -- CRM is the primary source for gender\n",
    "            ELSE COALESCE(ca.gen, 'n/a')  -- Fallback to ERP data\n",
    "        END AS gender,\n",
    "        ca.bdate AS birthdate,\n",
    "        ci.cst_create_date AS create_date\n",
    "    FROM dwh.silver.crm_cust_info ci\n",
    "    LEFT JOIN dwh.silver.erp_cust_az12 ca ON ci.cst_key = ca.cid\n",
    "    LEFT JOIN dwh.silver.erp_loc_a101 la ON ci.cst_key = la.cid;\n",
    "    ''')\n",
    "    logger.info(\"gold.dim_customers view created successfully.\")\n",
    "    \n"
   ]
  },
  {
   "cell_type": "code",
   "execution_count": 0,
   "metadata": {
    "application/vnd.databricks.v1+cell": {
     "cellMetadata": {
      "byteLimit": 2048000,
      "rowLimit": 10000
     },
     "inputWidgets": {},
     "nuid": "5ae7eaa8-52b5-4f46-8e06-b740dc9f2f66",
     "showTitle": false,
     "tableResultSettingsMap": {},
     "title": ""
    }
   },
   "outputs": [],
   "source": [
    "def create_dim_products_view():\n",
    "    logger = setup_logger()\n",
    "    logger.info(\"Starting creation of gold.dim_products view.\")\n",
    "    spark.sql('''\n",
    "    CREATE OR REPLACE VIEW dwh.gold.dim_products AS\n",
    "    SELECT\n",
    "        ROW_NUMBER() OVER (ORDER BY pn.prd_start_dt, pn.prd_key) AS product_key,  -- Surrogate key\n",
    "        pn.prd_id AS product_id,\n",
    "        pn.prd_key AS product_number,\n",
    "        pn.prd_nm AS product_name,\n",
    "        pn.cat_id AS category_id,\n",
    "        pc.cat AS category,\n",
    "        pc.subcat AS subcategory,\n",
    "        pc.maintenance AS maintenance,\n",
    "        pn.prd_cost AS cost,\n",
    "        pn.prd_line AS product_line,\n",
    "        pn.prd_start_dt AS start_date\n",
    "    FROM dwh.silver.crm_prd_info pn\n",
    "    LEFT JOIN dwh.silver.erp_px_cat_g1v2 pc ON pn.cat_id = pc.id\n",
    "    WHERE pn.prd_end_dt IS NULL;  -- Filter out historical data\n",
    "    ''')\n",
    "    logger.info(\"gold.dim_products view created successfully.\")"
   ]
  },
  {
   "cell_type": "code",
   "execution_count": 0,
   "metadata": {
    "application/vnd.databricks.v1+cell": {
     "cellMetadata": {
      "byteLimit": 2048000,
      "rowLimit": 10000
     },
     "inputWidgets": {},
     "nuid": "12e2a81d-199c-4f52-b617-275199eaa04d",
     "showTitle": false,
     "tableResultSettingsMap": {},
     "title": ""
    }
   },
   "outputs": [],
   "source": [
    "def create_fact_sales_view():\n",
    "    logger = setup_logger()\n",
    "    logger.info(\"Starting creation of gold.fact_sales view.\")\n",
    "    spark.sql('''\n",
    "    CREATE OR REPLACE VIEW dwh.gold.fact_sales AS\n",
    "    SELECT\n",
    "        sd.sls_ord_num AS order_number,\n",
    "        pr.product_key AS product_key,\n",
    "        cu.customer_key AS customer_key,\n",
    "        sd.sls_order_dt AS order_date,\n",
    "        sd.sls_ship_dt AS shipping_date,\n",
    "        sd.sls_due_dt AS due_date,\n",
    "        sd.sls_sales AS sales_amount,\n",
    "        sd.sls_quantity AS quantity,\n",
    "        sd.sls_price AS price\n",
    "    FROM dwh.silver.crm_sales_details sd\n",
    "    LEFT JOIN dwh.gold.dim_products pr ON sd.sls_prd_key = pr.product_number\n",
    "    LEFT JOIN dwh.gold.dim_customers cu ON sd.sls_cust_id = cu.customer_id;\n",
    "    ''')\n",
    "    logger.info(\"gold.fact_sales view created successfully.\")"
   ]
  },
  {
   "cell_type": "code",
   "execution_count": 0,
   "metadata": {
    "application/vnd.databricks.v1+cell": {
     "cellMetadata": {
      "byteLimit": 2048000,
      "rowLimit": 10000
     },
     "inputWidgets": {},
     "nuid": "04eaa3a6-8054-491c-88d0-7be48d1f8f2c",
     "showTitle": false,
     "tableResultSettingsMap": {},
     "title": ""
    }
   },
   "outputs": [
    {
     "output_type": "stream",
     "name": "stderr",
     "output_type": "stream",
     "text": [
      "2025-07-29 17:19:55,936 INFO Starting creation of gold.dim_customers view.\n2025-07-29 17:19:56,407 INFO gold.dim_customers view created successfully.\n"
     ]
    }
   ],
   "source": [
    "create_dim_customers_view()"
   ]
  },
  {
   "cell_type": "code",
   "execution_count": 0,
   "metadata": {
    "application/vnd.databricks.v1+cell": {
     "cellMetadata": {
      "byteLimit": 2048000,
      "rowLimit": 10000
     },
     "inputWidgets": {},
     "nuid": "9ac303e0-d1ed-4aac-ac9a-a81b9f13874a",
     "showTitle": false,
     "tableResultSettingsMap": {},
     "title": ""
    }
   },
   "outputs": [
    {
     "output_type": "stream",
     "name": "stderr",
     "output_type": "stream",
     "text": [
      "2025-07-29 17:25:25,557 INFO Starting creation of gold.dim_products view.\n2025-07-29 17:25:26,282 INFO gold.dim_products view created successfully.\n"
     ]
    }
   ],
   "source": [
    "create_dim_products_view()"
   ]
  },
  {
   "cell_type": "code",
   "execution_count": 0,
   "metadata": {
    "application/vnd.databricks.v1+cell": {
     "cellMetadata": {
      "byteLimit": 2048000,
      "rowLimit": 10000
     },
     "inputWidgets": {},
     "nuid": "67cd685d-329b-40b3-b16c-077321791bc1",
     "showTitle": false,
     "tableResultSettingsMap": {},
     "title": ""
    }
   },
   "outputs": [
    {
     "output_type": "stream",
     "name": "stderr",
     "output_type": "stream",
     "text": [
      "2025-07-29 17:25:51,418 INFO Starting creation of gold.fact_sales view.\n2025-07-29 17:25:52,055 INFO gold.fact_sales view created successfully.\n"
     ]
    }
   ],
   "source": [
    "create_fact_sales_view()"
   ]
  }
 ],
 "metadata": {
  "application/vnd.databricks.v1+notebook": {
   "computePreferences": null,
   "dashboards": [],
   "environmentMetadata": {
    "base_environment": "",
    "environment_version": "2"
   },
   "inputWidgetPreferences": null,
   "language": "python",
   "notebookMetadata": {
    "pythonIndentUnit": 4
   },
   "notebookName": "03_dwh_gold",
   "widgets": {}
  },
  "language_info": {
   "name": "python"
  }
 },
 "nbformat": 4,
 "nbformat_minor": 0
}