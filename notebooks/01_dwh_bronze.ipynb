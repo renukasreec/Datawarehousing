{
 "cells": [
  {
   "cell_type": "code",
   "execution_count": 0,
   "metadata": {
    "application/vnd.databricks.v1+cell": {
     "cellMetadata": {
      "byteLimit": 2048000,
      "rowLimit": 10000
     },
     "inputWidgets": {},
     "nuid": "dbb8b809-3e2a-4303-ab0b-f4ad84a02425",
     "showTitle": false,
     "tableResultSettingsMap": {},
     "title": ""
    }
   },
   "outputs": [],
   "source": [
    "import logging\n",
    "import sys"
   ]
  },
  {
   "cell_type": "code",
   "execution_count": 0,
   "metadata": {
    "application/vnd.databricks.v1+cell": {
     "cellMetadata": {
      "byteLimit": 2048000,
      "rowLimit": 10000
     },
     "inputWidgets": {},
     "nuid": "981deef0-a17d-47f1-83eb-41e349aca473",
     "showTitle": false,
     "tableResultSettingsMap": {},
     "title": ""
    }
   },
   "outputs": [],
   "source": [
    "\n",
    "def load_and_save_csv(input_path, table_name):\n",
    "    logger = logging.getLogger(table_name)\n",
    "    logger.setLevel(logging.INFO)\n",
    "    if not logger.handlers:\n",
    "        handler = logging.StreamHandler(sys.stdout)\n",
    "        handler.setFormatter(logging.Formatter('%(asctime)s %(levelname)s %(message)s'))\n",
    "        logger.addHandler(handler)\n",
    "    try:\n",
    "        df = spark.read.csv(input_path, header=True, inferSchema=True)\n",
    "        df.write.mode('overwrite').saveAsTable(table_name)\n",
    "        logger.info(f\"Successfully loaded and saved {input_path} to {table_name}\")\n",
    "    except Exception as e:\n",
    "        logger.error(f\"Error processing {input_path} to {table_name}: {e}\")\n",
    "        raise"
   ]
  },
  {
   "cell_type": "code",
   "execution_count": 0,
   "metadata": {
    "application/vnd.databricks.v1+cell": {
     "cellMetadata": {
      "byteLimit": 2048000,
      "rowLimit": 10000
     },
     "inputWidgets": {},
     "nuid": "61c26ec0-ed11-42f8-842e-f83c39c406e0",
     "showTitle": false,
     "tableResultSettingsMap": {},
     "title": ""
    }
   },
   "outputs": [
    {
     "output_type": "stream",
     "name": "stdout",
     "output_type": "stream",
     "text": [
      "2025-07-29 12:22:25,112 INFO Successfully loaded and saved /Volumes/dwh/raw/raw_data_crm/cust_info.csv to dwh.bronze.crm_cust_info\n2025-07-29 12:22:26,213 INFO Successfully loaded and saved /Volumes/dwh/raw/raw_data_crm/prd_info.csv to dwh.bronze.crm_prd_info\n2025-07-29 12:22:28,123 INFO Successfully loaded and saved /Volumes/dwh/raw/raw_data_crm/sales_details.csv to dwh.bronze.crm_sales_details\n2025-07-29 12:22:29,571 INFO Successfully loaded and saved /Volumes/dwh/raw/raw_data_erp/CUST_AZ12.csv to dwh.bronze.erp_cust_az12\n2025-07-29 12:22:30,695 INFO Successfully loaded and saved /Volumes/dwh/raw/raw_data_erp/LOC_A101.csv to dwh.bronze.erp_loc_a101\n2025-07-29 12:22:31,850 INFO Successfully loaded and saved /Volumes/dwh/raw/raw_data_erp/PX_CAT_G1V2.csv to dwh.bronze.erp_px_cat_g1v2\n"
     ]
    }
   ],
   "source": [
    "load_and_save_csv('/Volumes/dwh/raw/raw_data_crm/cust_info.csv', 'dwh.bronze.crm_cust_info')\n",
    "load_and_save_csv('/Volumes/dwh/raw/raw_data_crm/prd_info.csv', 'dwh.bronze.crm_prd_info')\n",
    "load_and_save_csv('/Volumes/dwh/raw/raw_data_crm/sales_details.csv', 'dwh.bronze.crm_sales_details')\n",
    "load_and_save_csv('/Volumes/dwh/raw/raw_data_erp/CUST_AZ12.csv', 'dwh.bronze.erp_cust_az12')\n",
    "load_and_save_csv('/Volumes/dwh/raw/raw_data_erp/LOC_A101.csv', 'dwh.bronze.erp_loc_a101')\n",
    "load_and_save_csv('/Volumes/dwh/raw/raw_data_erp/PX_CAT_G1V2.csv', 'dwh.bronze.erp_px_cat_g1v2')"
   ]
  }
 ],
 "metadata": {
  "application/vnd.databricks.v1+notebook": {
   "computePreferences": null,
   "dashboards": [],
   "environmentMetadata": {
    "base_environment": "",
    "environment_version": "2"
   },
   "inputWidgetPreferences": null,
   "language": "python",
   "notebookMetadata": {
    "pythonIndentUnit": 4
   },
   "notebookName": "01_dwh_bronze",
   "widgets": {}
  },
  "language_info": {
   "name": "python"
  }
 },
 "nbformat": 4,
 "nbformat_minor": 0
}